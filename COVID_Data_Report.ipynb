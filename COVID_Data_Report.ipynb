{
 "cells": [
  {
   "cell_type": "markdown",
   "id": "18ab8390",
   "metadata": {},
   "source": [
    "# COVID Data Report\n"
   ]
  },
  {
   "cell_type": "code",
   "execution_count": 1,
   "id": "deafa6a9",
   "metadata": {},
   "outputs": [],
   "source": [
    "import pandas as pd\n",
    "import numpy as np\n",
    "import dtale as dta\n",
    "import datetime as dt\n",
    "import matplotlib.pyplot as plt\n",
    "\n"
   ]
  },
  {
   "cell_type": "code",
   "execution_count": 2,
   "id": "c23a9169",
   "metadata": {},
   "outputs": [],
   "source": [
    "import seaborn as sns\n"
   ]
  },
  {
   "cell_type": "code",
   "execution_count": 4,
   "id": "34e94052",
   "metadata": {},
   "outputs": [],
   "source": [
    "df_raw=pd.read_csv(\"https://raw.githubusercontent.com/CSSEGISandData/COVID-19/master/csse_covid_19_data/csse_covid_19_time_series/time_series_covid19_deaths_global.csv\")\n",
    "\n",
    "#df=pd.concat([df_ytd,df_hist])"
   ]
  },
  {
   "cell_type": "code",
   "execution_count": 5,
   "id": "57f5d7f8",
   "metadata": {},
   "outputs": [
    {
     "name": "stdout",
     "output_type": "stream",
     "text": [
      "<class 'pandas.core.frame.DataFrame'>\n",
      "RangeIndex: 289 entries, 0 to 288\n",
      "Columns: 1138 entries, Province/State to 2/28/23\n",
      "dtypes: float64(2), int64(1134), object(2)\n",
      "memory usage: 2.5+ MB\n"
     ]
    }
   ],
   "source": [
    "df_ytd.info()"
   ]
  },
  {
   "cell_type": "markdown",
   "id": "489ddee9",
   "metadata": {},
   "source": [
    "## Data can be reformatted to see growth of country per day and total in a country"
   ]
  },
  {
   "cell_type": "code",
   "execution_count": 12,
   "id": "239a5881",
   "metadata": {},
   "outputs": [
    {
     "data": {
      "text/html": [
       "<div>\n",
       "<style scoped>\n",
       "    .dataframe tbody tr th:only-of-type {\n",
       "        vertical-align: middle;\n",
       "    }\n",
       "\n",
       "    .dataframe tbody tr th {\n",
       "        vertical-align: top;\n",
       "    }\n",
       "\n",
       "    .dataframe thead th {\n",
       "        text-align: right;\n",
       "    }\n",
       "</style>\n",
       "<table border=\"1\" class=\"dataframe\">\n",
       "  <thead>\n",
       "    <tr style=\"text-align: right;\">\n",
       "      <th></th>\n",
       "      <th>Province/State</th>\n",
       "      <th>Country/Region</th>\n",
       "      <th>Lat</th>\n",
       "      <th>Long</th>\n",
       "      <th>1/22/20</th>\n",
       "      <th>1/23/20</th>\n",
       "      <th>1/24/20</th>\n",
       "      <th>1/25/20</th>\n",
       "      <th>1/26/20</th>\n",
       "      <th>1/27/20</th>\n",
       "      <th>...</th>\n",
       "      <th>2/18/23</th>\n",
       "      <th>2/19/23</th>\n",
       "      <th>2/20/23</th>\n",
       "      <th>2/21/23</th>\n",
       "      <th>2/22/23</th>\n",
       "      <th>2/23/23</th>\n",
       "      <th>2/24/23</th>\n",
       "      <th>2/25/23</th>\n",
       "      <th>2/26/23</th>\n",
       "      <th>2/27/23</th>\n",
       "    </tr>\n",
       "  </thead>\n",
       "  <tbody>\n",
       "    <tr>\n",
       "      <th>0</th>\n",
       "      <td>NaN</td>\n",
       "      <td>Afghanistan</td>\n",
       "      <td>33.939110</td>\n",
       "      <td>67.709953</td>\n",
       "      <td>0</td>\n",
       "      <td>0</td>\n",
       "      <td>0</td>\n",
       "      <td>0</td>\n",
       "      <td>0</td>\n",
       "      <td>0</td>\n",
       "      <td>...</td>\n",
       "      <td>7896</td>\n",
       "      <td>7896</td>\n",
       "      <td>7896</td>\n",
       "      <td>7896</td>\n",
       "      <td>7896</td>\n",
       "      <td>7896</td>\n",
       "      <td>7896</td>\n",
       "      <td>7896</td>\n",
       "      <td>7896</td>\n",
       "      <td>7896</td>\n",
       "    </tr>\n",
       "    <tr>\n",
       "      <th>1</th>\n",
       "      <td>NaN</td>\n",
       "      <td>Albania</td>\n",
       "      <td>41.153300</td>\n",
       "      <td>20.168300</td>\n",
       "      <td>0</td>\n",
       "      <td>0</td>\n",
       "      <td>0</td>\n",
       "      <td>0</td>\n",
       "      <td>0</td>\n",
       "      <td>0</td>\n",
       "      <td>...</td>\n",
       "      <td>3596</td>\n",
       "      <td>3596</td>\n",
       "      <td>3596</td>\n",
       "      <td>3596</td>\n",
       "      <td>3598</td>\n",
       "      <td>3598</td>\n",
       "      <td>3598</td>\n",
       "      <td>3598</td>\n",
       "      <td>3598</td>\n",
       "      <td>3598</td>\n",
       "    </tr>\n",
       "    <tr>\n",
       "      <th>2</th>\n",
       "      <td>NaN</td>\n",
       "      <td>Algeria</td>\n",
       "      <td>28.033900</td>\n",
       "      <td>1.659600</td>\n",
       "      <td>0</td>\n",
       "      <td>0</td>\n",
       "      <td>0</td>\n",
       "      <td>0</td>\n",
       "      <td>0</td>\n",
       "      <td>0</td>\n",
       "      <td>...</td>\n",
       "      <td>6881</td>\n",
       "      <td>6881</td>\n",
       "      <td>6881</td>\n",
       "      <td>6881</td>\n",
       "      <td>6881</td>\n",
       "      <td>6881</td>\n",
       "      <td>6881</td>\n",
       "      <td>6881</td>\n",
       "      <td>6881</td>\n",
       "      <td>6881</td>\n",
       "    </tr>\n",
       "    <tr>\n",
       "      <th>3</th>\n",
       "      <td>NaN</td>\n",
       "      <td>Andorra</td>\n",
       "      <td>42.506300</td>\n",
       "      <td>1.521800</td>\n",
       "      <td>0</td>\n",
       "      <td>0</td>\n",
       "      <td>0</td>\n",
       "      <td>0</td>\n",
       "      <td>0</td>\n",
       "      <td>0</td>\n",
       "      <td>...</td>\n",
       "      <td>165</td>\n",
       "      <td>165</td>\n",
       "      <td>165</td>\n",
       "      <td>165</td>\n",
       "      <td>165</td>\n",
       "      <td>165</td>\n",
       "      <td>165</td>\n",
       "      <td>165</td>\n",
       "      <td>165</td>\n",
       "      <td>165</td>\n",
       "    </tr>\n",
       "    <tr>\n",
       "      <th>4</th>\n",
       "      <td>NaN</td>\n",
       "      <td>Angola</td>\n",
       "      <td>-11.202700</td>\n",
       "      <td>17.873900</td>\n",
       "      <td>0</td>\n",
       "      <td>0</td>\n",
       "      <td>0</td>\n",
       "      <td>0</td>\n",
       "      <td>0</td>\n",
       "      <td>0</td>\n",
       "      <td>...</td>\n",
       "      <td>1931</td>\n",
       "      <td>1931</td>\n",
       "      <td>1931</td>\n",
       "      <td>1931</td>\n",
       "      <td>1931</td>\n",
       "      <td>1931</td>\n",
       "      <td>1931</td>\n",
       "      <td>1931</td>\n",
       "      <td>1931</td>\n",
       "      <td>1933</td>\n",
       "    </tr>\n",
       "    <tr>\n",
       "      <th>...</th>\n",
       "      <td>...</td>\n",
       "      <td>...</td>\n",
       "      <td>...</td>\n",
       "      <td>...</td>\n",
       "      <td>...</td>\n",
       "      <td>...</td>\n",
       "      <td>...</td>\n",
       "      <td>...</td>\n",
       "      <td>...</td>\n",
       "      <td>...</td>\n",
       "      <td>...</td>\n",
       "      <td>...</td>\n",
       "      <td>...</td>\n",
       "      <td>...</td>\n",
       "      <td>...</td>\n",
       "      <td>...</td>\n",
       "      <td>...</td>\n",
       "      <td>...</td>\n",
       "      <td>...</td>\n",
       "      <td>...</td>\n",
       "      <td>...</td>\n",
       "    </tr>\n",
       "    <tr>\n",
       "      <th>284</th>\n",
       "      <td>NaN</td>\n",
       "      <td>West Bank and Gaza</td>\n",
       "      <td>31.952200</td>\n",
       "      <td>35.233200</td>\n",
       "      <td>0</td>\n",
       "      <td>0</td>\n",
       "      <td>0</td>\n",
       "      <td>0</td>\n",
       "      <td>0</td>\n",
       "      <td>0</td>\n",
       "      <td>...</td>\n",
       "      <td>5708</td>\n",
       "      <td>5708</td>\n",
       "      <td>5708</td>\n",
       "      <td>5708</td>\n",
       "      <td>5708</td>\n",
       "      <td>5708</td>\n",
       "      <td>5708</td>\n",
       "      <td>5708</td>\n",
       "      <td>5708</td>\n",
       "      <td>5708</td>\n",
       "    </tr>\n",
       "    <tr>\n",
       "      <th>285</th>\n",
       "      <td>NaN</td>\n",
       "      <td>Winter Olympics 2022</td>\n",
       "      <td>39.904200</td>\n",
       "      <td>116.407400</td>\n",
       "      <td>0</td>\n",
       "      <td>0</td>\n",
       "      <td>0</td>\n",
       "      <td>0</td>\n",
       "      <td>0</td>\n",
       "      <td>0</td>\n",
       "      <td>...</td>\n",
       "      <td>0</td>\n",
       "      <td>0</td>\n",
       "      <td>0</td>\n",
       "      <td>0</td>\n",
       "      <td>0</td>\n",
       "      <td>0</td>\n",
       "      <td>0</td>\n",
       "      <td>0</td>\n",
       "      <td>0</td>\n",
       "      <td>0</td>\n",
       "    </tr>\n",
       "    <tr>\n",
       "      <th>286</th>\n",
       "      <td>NaN</td>\n",
       "      <td>Yemen</td>\n",
       "      <td>15.552727</td>\n",
       "      <td>48.516388</td>\n",
       "      <td>0</td>\n",
       "      <td>0</td>\n",
       "      <td>0</td>\n",
       "      <td>0</td>\n",
       "      <td>0</td>\n",
       "      <td>0</td>\n",
       "      <td>...</td>\n",
       "      <td>2159</td>\n",
       "      <td>2159</td>\n",
       "      <td>2159</td>\n",
       "      <td>2159</td>\n",
       "      <td>2159</td>\n",
       "      <td>2159</td>\n",
       "      <td>2159</td>\n",
       "      <td>2159</td>\n",
       "      <td>2159</td>\n",
       "      <td>2159</td>\n",
       "    </tr>\n",
       "    <tr>\n",
       "      <th>287</th>\n",
       "      <td>NaN</td>\n",
       "      <td>Zambia</td>\n",
       "      <td>-13.133897</td>\n",
       "      <td>27.849332</td>\n",
       "      <td>0</td>\n",
       "      <td>0</td>\n",
       "      <td>0</td>\n",
       "      <td>0</td>\n",
       "      <td>0</td>\n",
       "      <td>0</td>\n",
       "      <td>...</td>\n",
       "      <td>4051</td>\n",
       "      <td>4051</td>\n",
       "      <td>4054</td>\n",
       "      <td>4055</td>\n",
       "      <td>4055</td>\n",
       "      <td>4055</td>\n",
       "      <td>4055</td>\n",
       "      <td>4055</td>\n",
       "      <td>4055</td>\n",
       "      <td>4055</td>\n",
       "    </tr>\n",
       "    <tr>\n",
       "      <th>288</th>\n",
       "      <td>NaN</td>\n",
       "      <td>Zimbabwe</td>\n",
       "      <td>-19.015438</td>\n",
       "      <td>29.154857</td>\n",
       "      <td>0</td>\n",
       "      <td>0</td>\n",
       "      <td>0</td>\n",
       "      <td>0</td>\n",
       "      <td>0</td>\n",
       "      <td>0</td>\n",
       "      <td>...</td>\n",
       "      <td>5662</td>\n",
       "      <td>5662</td>\n",
       "      <td>5662</td>\n",
       "      <td>5662</td>\n",
       "      <td>5663</td>\n",
       "      <td>5663</td>\n",
       "      <td>5663</td>\n",
       "      <td>5663</td>\n",
       "      <td>5663</td>\n",
       "      <td>5663</td>\n",
       "    </tr>\n",
       "  </tbody>\n",
       "</table>\n",
       "<p>289 rows × 1137 columns</p>\n",
       "</div>"
      ],
      "text/plain": [
       "    Province/State        Country/Region        Lat        Long  1/22/20  \\\n",
       "0              NaN           Afghanistan  33.939110   67.709953        0   \n",
       "1              NaN               Albania  41.153300   20.168300        0   \n",
       "2              NaN               Algeria  28.033900    1.659600        0   \n",
       "3              NaN               Andorra  42.506300    1.521800        0   \n",
       "4              NaN                Angola -11.202700   17.873900        0   \n",
       "..             ...                   ...        ...         ...      ...   \n",
       "284            NaN    West Bank and Gaza  31.952200   35.233200        0   \n",
       "285            NaN  Winter Olympics 2022  39.904200  116.407400        0   \n",
       "286            NaN                 Yemen  15.552727   48.516388        0   \n",
       "287            NaN                Zambia -13.133897   27.849332        0   \n",
       "288            NaN              Zimbabwe -19.015438   29.154857        0   \n",
       "\n",
       "     1/23/20  1/24/20  1/25/20  1/26/20  1/27/20  ...  2/18/23  2/19/23  \\\n",
       "0          0        0        0        0        0  ...     7896     7896   \n",
       "1          0        0        0        0        0  ...     3596     3596   \n",
       "2          0        0        0        0        0  ...     6881     6881   \n",
       "3          0        0        0        0        0  ...      165      165   \n",
       "4          0        0        0        0        0  ...     1931     1931   \n",
       "..       ...      ...      ...      ...      ...  ...      ...      ...   \n",
       "284        0        0        0        0        0  ...     5708     5708   \n",
       "285        0        0        0        0        0  ...        0        0   \n",
       "286        0        0        0        0        0  ...     2159     2159   \n",
       "287        0        0        0        0        0  ...     4051     4051   \n",
       "288        0        0        0        0        0  ...     5662     5662   \n",
       "\n",
       "     2/20/23  2/21/23  2/22/23  2/23/23  2/24/23  2/25/23  2/26/23  2/27/23  \n",
       "0       7896     7896     7896     7896     7896     7896     7896     7896  \n",
       "1       3596     3596     3598     3598     3598     3598     3598     3598  \n",
       "2       6881     6881     6881     6881     6881     6881     6881     6881  \n",
       "3        165      165      165      165      165      165      165      165  \n",
       "4       1931     1931     1931     1931     1931     1931     1931     1933  \n",
       "..       ...      ...      ...      ...      ...      ...      ...      ...  \n",
       "284     5708     5708     5708     5708     5708     5708     5708     5708  \n",
       "285        0        0        0        0        0        0        0        0  \n",
       "286     2159     2159     2159     2159     2159     2159     2159     2159  \n",
       "287     4054     4055     4055     4055     4055     4055     4055     4055  \n",
       "288     5662     5662     5663     5663     5663     5663     5663     5663  \n",
       "\n",
       "[289 rows x 1137 columns]"
      ]
     },
     "execution_count": 12,
     "metadata": {},
     "output_type": "execute_result"
    }
   ],
   "source": [
    "df_raw"
   ]
  },
  {
   "cell_type": "code",
   "execution_count": 78,
   "id": "a3f81865",
   "metadata": {},
   "outputs": [
    {
     "name": "stdout",
     "output_type": "stream",
     "text": [
      "Tue Feb 28, 2023\n"
     ]
    }
   ],
   "source": [
    "#Store the column names of the raw dataframe in a variable\n",
    "\n",
    "colnames = df_raw.columns\n",
    "#Aggregate the raw dataframe by region\n",
    "\n",
    "df = df_raw.pivot_table(index='Country/Region', values=colnames[4:])\n",
    "#Transpose the dataframe so that countries become columns instead of rows\n",
    "\n",
    "df = df.T\n",
    "#Convert the index to a datetime object\n",
    "\n",
    "df.index = pd.to_datetime(df.index)\n",
    "#Sort the dataframe by dates\n",
    "\n",
    "df.sort_index(inplace=True)\n",
    "\n",
    "#Get the latest date from the index and store it as a string\n",
    "\n",
    "latest_date = df.index[-1].strftime(\"%a %b %d, %Y\")\n",
    "\n",
    "\n",
    "print(latest_date)\n"
   ]
  },
  {
   "cell_type": "markdown",
   "id": "7913ef7e",
   "metadata": {},
   "source": [
    "### We see that each day is  gives the month's result of cases. We must extract only the max value at the end of the month, then see how it progresses.\n"
   ]
  },
  {
   "cell_type": "code",
   "execution_count": 79,
   "id": "284baaf1",
   "metadata": {},
   "outputs": [
    {
     "data": {
      "text/plain": [
       "2020-01-31     0.000\n",
       "2020-02-29     0.000\n",
       "2020-03-31     2.250\n",
       "2020-04-30    11.625\n",
       "2020-05-31    12.875\n",
       "Freq: M, Name: Australia, dtype: float64"
      ]
     },
     "execution_count": 79,
     "metadata": {},
     "output_type": "execute_result"
    }
   ],
   "source": [
    "df['Australia'].resample('M').max().head()"
   ]
  },
  {
   "cell_type": "code",
   "execution_count": 80,
   "id": "6b081559",
   "metadata": {},
   "outputs": [
    {
     "data": {
      "text/plain": [
       "2020-01-31         0.0\n",
       "2020-02-29         1.0\n",
       "2020-03-31      5359.0\n",
       "2020-04-30     66638.0\n",
       "2020-05-31    107857.0\n",
       "Freq: M, Name: US, dtype: float64"
      ]
     },
     "execution_count": 80,
     "metadata": {},
     "output_type": "execute_result"
    }
   ],
   "source": [
    "df['US'].resample('M').max().head()"
   ]
  },
  {
   "cell_type": "markdown",
   "id": "92f46666",
   "metadata": {},
   "source": [
    "# Analysis of COVID Progress "
   ]
  },
  {
   "cell_type": "markdown",
   "id": "e6ec4799",
   "metadata": {},
   "source": [
    "### 1. Data Shows Total Progress of COVID"
   ]
  },
  {
   "cell_type": "code",
   "execution_count": 81,
   "id": "665e6db2",
   "metadata": {},
   "outputs": [],
   "source": [
    "df_casesprogress=df.resample('M').max()"
   ]
  },
  {
   "cell_type": "code",
   "execution_count": 82,
   "id": "704e8914",
   "metadata": {},
   "outputs": [],
   "source": [
    "df_casesprogress=df_casesprogress[['United Kingdom', 'US','Korea, South','Brazil','Australia']]\n",
    "#df_casesprogress[['France', 'Brazil', 'Korea, South', 'Iran', 'United Kingdom', 'US', 'Canada', 'Japan','Russia']]"
   ]
  },
  {
   "cell_type": "markdown",
   "id": "d29c1465",
   "metadata": {},
   "source": [
    "# Unclean data illustration: The Current Fatalities Count from COVID by Month"
   ]
  },
  {
   "cell_type": "code",
   "execution_count": 135,
   "id": "5d923f95",
   "metadata": {
    "scrolled": false
   },
   "outputs": [
    {
     "data": {
      "image/png": "[encoded data removed]",
      "text/plain": [
       "<Figure size 864x576 with 1 Axes>"
      ]
     },
     "metadata": {
      "needs_background": "light"
     },
     "output_type": "display_data"
    }
   ],
   "source": [
    "# Create a line plot of the counts over time\n",
    "ax = df_casesprogress.plot(figsize=(12, 8), linewidth=2)\n",
    "ax.set_xlabel('Date by Month')\n",
    "ax.set_ylabel('Sum of Fatal Cases of COVID')\n",
    "ax.set_title('Recorded COVID Fatalaties by Month and Year')\n",
    "#ax.xaxis.set_major_formatter(plt.matplotlib.dates.DateFormatter('%Y-%m'))\n",
    "\n",
    "plt.show()"
   ]
  },
  {
   "cell_type": "markdown",
   "id": "cb2473bb",
   "metadata": {},
   "source": [
    "## Conclusions:\n",
    "* BIASED DATA: Some countries' datasets keep track of more cases on a National Scale\n",
    "* Non-uniform Data: Different sources of data results in misalignment of metrics, IE Australia is using a 10^3 system rather than the US' raw count data.¶ \n",
    "* US and Brazil fatalities are high compared to other developed countries in raw numbers. However, it is not population averaged and metrics are not clearly kept for all countries."
   ]
  },
  {
   "cell_type": "code",
   "execution_count": 136,
   "id": "ac6fae59",
   "metadata": {},
   "outputs": [
    {
     "data": {
      "text/plain": [
       "2022-10-31    1070471.0\n",
       "2022-11-30    1080557.0\n",
       "2022-12-31    1092853.0\n",
       "2023-01-31    1108756.0\n",
       "2023-02-28    1119885.0\n",
       "Freq: M, Name: US, dtype: float64"
      ]
     },
     "execution_count": 136,
     "metadata": {},
     "output_type": "execute_result"
    }
   ],
   "source": [
    "df['US'].resample('M').max().tail()"
   ]
  },
  {
   "cell_type": "code",
   "execution_count": 137,
   "id": "d4f09110",
   "metadata": {},
   "outputs": [
    {
     "data": {
      "text/html": [
       "<div>\n",
       "<style scoped>\n",
       "    .dataframe tbody tr th:only-of-type {\n",
       "        vertical-align: middle;\n",
       "    }\n",
       "\n",
       "    .dataframe tbody tr th {\n",
       "        vertical-align: top;\n",
       "    }\n",
       "\n",
       "    .dataframe thead th {\n",
       "        text-align: right;\n",
       "    }\n",
       "</style>\n",
       "<table border=\"1\" class=\"dataframe\">\n",
       "  <thead>\n",
       "    <tr style=\"text-align: right;\">\n",
       "      <th>Country/Region</th>\n",
       "      <th>Australia</th>\n",
       "    </tr>\n",
       "  </thead>\n",
       "  <tbody>\n",
       "    <tr>\n",
       "      <th>2022-10-31</th>\n",
       "      <td>1958.125</td>\n",
       "    </tr>\n",
       "    <tr>\n",
       "      <th>2022-11-30</th>\n",
       "      <td>2017.125</td>\n",
       "    </tr>\n",
       "    <tr>\n",
       "      <th>2022-12-31</th>\n",
       "      <td>2131.500</td>\n",
       "    </tr>\n",
       "    <tr>\n",
       "      <th>2023-01-31</th>\n",
       "      <td>2326.875</td>\n",
       "    </tr>\n",
       "    <tr>\n",
       "      <th>2023-02-28</th>\n",
       "      <td>2421.625</td>\n",
       "    </tr>\n",
       "  </tbody>\n",
       "</table>\n",
       "</div>"
      ],
      "text/plain": [
       "Country/Region  Australia\n",
       "2022-10-31       1958.125\n",
       "2022-11-30       2017.125\n",
       "2022-12-31       2131.500\n",
       "2023-01-31       2326.875\n",
       "2023-02-28       2421.625"
      ]
     },
     "execution_count": 137,
     "metadata": {},
     "output_type": "execute_result"
    }
   ],
   "source": [
    "df[['Australia']].resample('M').max().tail()"
   ]
  },
  {
   "cell_type": "markdown",
   "id": "7b4581c2",
   "metadata": {},
   "source": [
    "## US COVID Progress"
   ]
  },
  {
   "cell_type": "code",
   "execution_count": 138,
   "id": "cbdc00cf",
   "metadata": {},
   "outputs": [],
   "source": [
    "df_US_progress = df['US'].resample('M').max().diff()"
   ]
  },
  {
   "cell_type": "code",
   "execution_count": 139,
   "id": "c22f4988",
   "metadata": {},
   "outputs": [],
   "source": [
    "counts = df_US_progress"
   ]
  },
  {
   "cell_type": "code",
   "execution_count": 140,
   "id": "4ae2ed5b",
   "metadata": {},
   "outputs": [
    {
     "data": {
      "image/png": "[encoded data removed]",
      "text/plain": [
       "<Figure size 720x432 with 1 Axes>"
      ]
     },
     "metadata": {
      "needs_background": "light"
     },
     "output_type": "display_data"
    }
   ],
   "source": [
    "# Create a line plot of the counts over time\n",
    "ax = counts.plot(figsize=(10, 6), linewidth=2)\n",
    "ax.set_xlabel('Date')\n",
    "ax.set_ylabel('Count')\n",
    "ax.set_title('Occurrences by Month and Year')\n",
    "#ax.xaxis.set_major_formatter(plt.matplotlib.dates.DateFormatter('%Y-%m'))\n",
    "\n",
    "plt.show()\n"
   ]
  },
  {
   "cell_type": "markdown",
   "id": "e299bc35",
   "metadata": {},
   "source": [
    "#### This is a basic graph, but it shows just how cases are slowly decreasing, perhaps not because of less cases but increased protection from natural and vaccinal immunity as well as naturalization of the disease as a seasonal phenomenon. \n",
    "#### We can also see the general decrease of peaks after 2021. However, cases probably will always remain due to COVID mutations, seasonality surges, and COVID being a global pandemic."
   ]
  },
  {
   "cell_type": "markdown",
   "id": "d174864c",
   "metadata": {},
   "source": [
    "### 3. Modeling cases as time goes on"
   ]
  },
  {
   "cell_type": "code",
   "execution_count": 141,
   "id": "e2a5471c",
   "metadata": {},
   "outputs": [],
   "source": [
    "from statsmodels.tsa.arima.model import ARIMA"
   ]
  },
  {
   "cell_type": "code",
   "execution_count": 142,
   "id": "9e300d71",
   "metadata": {},
   "outputs": [],
   "source": [
    "df_precvd_month=df_US_progress\n"
   ]
  },
  {
   "cell_type": "code",
   "execution_count": 134,
   "id": "a3a6579e",
   "metadata": {
    "scrolled": false
   },
   "outputs": [
    {
     "name": "stderr",
     "output_type": "stream",
     "text": [
      "/home/jeffwa/anaconda3/envs/DL_new/lib/python3.10/site-packages/statsmodels/tsa/statespace/sarimax.py:866: UserWarning:\n",
      "\n",
      "Too few observations to estimate starting parameters for ARMA and trend. All parameters except for variances will be set to zeros.\n",
      "\n",
      "/home/jeffwa/anaconda3/envs/DL_new/lib/python3.10/site-packages/statsmodels/base/model.py:604: ConvergenceWarning:\n",
      "\n",
      "Maximum Likelihood optimization failed to converge. Check mle_retvals\n",
      "\n"
     ]
    },
    {
     "data": {
      "image/png": "[encoded data removed]",
      "text/plain": [
       "<Figure size 720x432 with 1 Axes>"
      ]
     },
     "metadata": {
      "needs_background": "light"
     },
     "output_type": "display_data"
    }
   ],
   "source": [
    "model = ARIMA(df_precvd_month, order=(14, 1,12))\n",
    "model_fit = model.fit()\n",
    "# Forecast future values of the time series\n",
    "forecast = model_fit.forecast(steps=14)\n",
    "\n",
    "# Plot the forecasted values\n",
    "fig, ax = plt.subplots(figsize=(10, 6))\n",
    "plt.plot(forecast)\n",
    "ax.set_ylim(bottom=0)\n",
    "ax.set_xlabel('Date')\n",
    "ax.set_ylabel('Predicted Count')\n",
    "ax.set_title('Pre-COVID Predictions of Shooting Incidents')\n",
    "plt.show()\n"
   ]
  },
  {
   "cell_type": "markdown",
   "id": "51279462",
   "metadata": {},
   "source": [
    "#### The model would predict normal behavior had it not been for lockdowns."
   ]
  },
  {
   "cell_type": "markdown",
   "id": "11bf69ca",
   "metadata": {},
   "source": [
    "### 5. Bias\n",
    "* BIASED DATA: Some countries' datasets keep track of more cases on a National Scale\n",
    "* Non-uniform Data: Different sources of data results in misalignment of metrics, IE Australia is using a 10^3 system rather than the US' raw count data.¶ \n",
    "* US fatalities are high compared to other developed countries in raw numbers. However, this metric is not population averaged and metrics are not clearly kept for all countries. "
   ]
  },
  {
   "cell_type": "markdown",
   "id": "8e68dc0c",
   "metadata": {},
   "source": [
    "### 6. Conclusions "
   ]
  },
  {
   "cell_type": "markdown",
   "id": "baa9cffb",
   "metadata": {},
   "source": [
    "<p style='text-align: left;'>\n",
    "    \n",
    "<b>   With the monthly progress graph, we can see the seasonality of the disease every start and end of the year, and a drop in the middle seasons. It also shows just how cases are slowly decreasing, perhaps not because of less cases but due to increased protection from natural and vaccinal immunity as well as naturalization of the disease as a seasonal phenomenon. We can also see the general decrease of peaks after 2021. However, cases probably will always remain due to COVID mutations, seasonality surges, and COVID being a global pandemic.<b>\n",
    "    \n",
    "\n",
    "</p>"
   ]
  },
  {
   "cell_type": "markdown",
   "id": "9045e230",
   "metadata": {},
   "source": [
    "<p style='text-align: left;'>\n",
    "    \n",
    "<b> \n",
    "    \n",
    "Unfortunately, it is unlikely that fatalities will ever be zero. As the forecast suggests, the decay rate of these incidents have been slow and has been relatively flat. We expect cases to jump at the at the middle of summer due to seasonality and activities after the raining season going into spring.\n",
    "    \n",
    "</p>"
   ]
  },
  {
   "cell_type": "code",
   "execution_count": null,
   "id": "1be530e2",
   "metadata": {},
   "outputs": [],
   "source": []
  }
 ],
 "metadata": {
  "kernelspec": {
   "display_name": "Python 3 (ipykernel)",
   "language": "python",
   "name": "python3"
  },
  "language_info": {
   "codemirror_mode": {
    "name": "ipython",
    "version": 3
   },
   "file_extension": ".py",
   "mimetype": "text/x-python",
   "name": "python",
   "nbconvert_exporter": "python",
   "pygments_lexer": "ipython3",
   "version": "3.10.4"
  }
 },
 "nbformat": 4,
 "nbformat_minor": 5
}
